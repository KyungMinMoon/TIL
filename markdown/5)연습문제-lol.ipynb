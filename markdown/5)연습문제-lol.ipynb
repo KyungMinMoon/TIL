{
 "cells": [
  {
   "cell_type": "code",
   "execution_count": 1,
   "id": "a5545078",
   "metadata": {},
   "outputs": [],
   "source": [
    "# Q1. 데이터 로드를 해보세요. (데이터는 \\t로 기준으로 구분되어 있다.)"
   ]
  },
  {
   "cell_type": "code",
   "execution_count": null,
   "id": "b8f20d56",
   "metadata": {},
   "outputs": [],
   "source": [
    "\n",
    "import pandas as pd\n",
    "\n",
    "game_df = pd.read_csv('./lol_data/games.csv')"
   ]
  },
  {
   "cell_type": "code",
   "execution_count": 2,
   "id": "5ea4fd0c",
   "metadata": {},
   "outputs": [],
   "source": [
    "# Q2. 데이터 상위의 3개행만 추출해보세요."
   ]
  },
  {
   "cell_type": "code",
   "execution_count": null,
   "id": "50ca6cce",
   "metadata": {},
   "outputs": [],
   "source": [
    "game_df.head(3)"
   ]
  },
  {
   "cell_type": "code",
   "execution_count": 3,
   "id": "da8d2f35",
   "metadata": {},
   "outputs": [],
   "source": [
    "# Q3. 데이터의 행과 열의 개수를 파악하라."
   ]
  },
  {
   "cell_type": "code",
   "execution_count": null,
   "id": "43268b91",
   "metadata": {},
   "outputs": [],
   "source": [
    "answer = game_df.shape()\n",
    "print(answer)"
   ]
  },
  {
   "cell_type": "code",
   "execution_count": 4,
   "id": "e4af8de9",
   "metadata": {},
   "outputs": [],
   "source": [
    "# Q4. 전체 컬럼을 출력해보세요."
   ]
  },
  {
   "cell_type": "code",
   "execution_count": null,
   "id": "4c8d9946",
   "metadata": {},
   "outputs": [],
   "source": [
    "game_df.columns()"
   ]
  },
  {
   "cell_type": "code",
   "execution_count": 5,
   "id": "4ad4fc35",
   "metadata": {},
   "outputs": [],
   "source": [
    "# Q5. 7번째 컬럼명을 출력하라"
   ]
  },
  {
   "cell_type": "code",
   "execution_count": null,
   "id": "d8f0151c",
   "metadata": {},
   "outputs": [],
   "source": [
    "game_df.columns[6]"
   ]
  },
  {
   "cell_type": "code",
   "execution_count": null,
   "id": "b17382e7",
   "metadata": {},
   "outputs": [],
   "source": [
    "# Q6. 9번째 컬럼의 자료속성의 데이터 타입을 출력하라\n",
    "# iloc 위치기반 인덱싱\n",
    "# loc 명칭기반 인덱싱\n",
    "\n",
    "# 강사님이 원하는 바\n",
    "game_df.iloc[:,8]\n",
    "\n",
    "# 깔끔하게 답만 추출하는 방법\n",
    "game_df.iloc[:,8].dtype"
   ]
  },
  {
   "cell_type": "code",
   "execution_count": 6,
   "id": "b8c97d6b",
   "metadata": {},
   "outputs": [],
   "source": [
    "# Q7. 데이터셋의 인덱스를 확인하는 방법은?"
   ]
  },
  {
   "cell_type": "code",
   "execution_count": null,
   "id": "d72ba691",
   "metadata": {},
   "outputs": [],
   "source": [
    "game_df.index"
   ]
  },
  {
   "cell_type": "code",
   "execution_count": 7,
   "id": "c3934e06",
   "metadata": {},
   "outputs": [],
   "source": [
    "# Q8. 9번째 컬럼의 3번째 값은??"
   ]
  },
  {
   "cell_type": "code",
   "execution_count": 1,
   "id": "69508b81",
   "metadata": {},
   "outputs": [
    {
     "ename": "NameError",
     "evalue": "name 'game_df' is not defined",
     "output_type": "error",
     "traceback": [
      "\u001b[1;31m---------------------------------------------------------------------------\u001b[0m",
      "\u001b[1;31mNameError\u001b[0m                                 Traceback (most recent call last)",
      "Cell \u001b[1;32mIn[1], line 1\u001b[0m\n\u001b[1;32m----> 1\u001b[0m game_df\u001b[39m.\u001b[39miloc[\u001b[39m2\u001b[39m,\u001b[39m8\u001b[39m]\n",
      "\u001b[1;31mNameError\u001b[0m: name 'game_df' is not defined"
     ]
    }
   ],
   "source": [
    "game_df.iloc[2,8]"
   ]
  },
  {
   "cell_type": "code",
   "execution_count": null,
   "id": "8e5929d3",
   "metadata": {},
   "outputs": [],
   "source": [
    "# Q9. 문자형 데이터를 가진 컬러"
   ]
  },
  {
   "cell_type": "code",
   "execution_count": null,
   "id": "04d1d3ca",
   "metadata": {},
   "outputs": [],
   "source": [
    "game_df.select_dtypes()  # include // exclude"
   ]
  },
  {
   "cell_type": "code",
   "execution_count": 8,
   "id": "cce77724",
   "metadata": {},
   "outputs": [],
   "source": [
    "# end of files"
   ]
  }
 ],
 "metadata": {
  "kernelspec": {
   "display_name": "Python 3",
   "language": "python",
   "name": "python3"
  },
  "language_info": {
   "codemirror_mode": {
    "name": "ipython",
    "version": 3
   },
   "file_extension": ".py",
   "mimetype": "text/x-python",
   "name": "python",
   "nbconvert_exporter": "python",
   "pygments_lexer": "ipython3",
   "version": "3.10.9"
  },
  "vscode": {
   "interpreter": {
    "hash": "8ab13b6bf52ff719b30ae613d669821158a8dad4fd9aadc59e6e6e4fb1f73f33"
   }
  }
 },
 "nbformat": 4,
 "nbformat_minor": 5
}
